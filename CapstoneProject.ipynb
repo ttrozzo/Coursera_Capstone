{
    "cells": [
        {
            "cell_type": "markdown",
            "metadata": {},
            "source": "# This notebook will be used to complete my IBM Data Science Professional Certificate Capstone Project (2020)"
        },
        {
            "cell_type": "code",
            "execution_count": null,
            "metadata": {},
            "outputs": [],
            "source": "import pandas as pd\nimport numpy as np"
        },
        {
            "cell_type": "code",
            "execution_count": null,
            "metadata": {},
            "outputs": [],
            "source": "print(\"Hello Capstone Project Course!\")"
        },
        {
            "cell_type": "markdown",
            "metadata": {},
            "source": "# Where Should You Stay in Miami?"
        },
        {
            "cell_type": "markdown",
            "metadata": {},
            "source": "## Installing Libraries"
        },
        {
            "cell_type": "code",
            "execution_count": null,
            "metadata": {},
            "outputs": [],
            "source": "import requests # library to handle requests\nimport pandas as pd # library for data analsysis\nimport numpy as np # library to handle data in a vectorized manner\nimport random # library for random number generation\n\n!conda install -c conda-forge geopy --yes \nfrom geopy.geocoders import Nominatim # module to convert an address into latitude and longitude values\n\n# libraries for displaying images\nfrom IPython.display import Image \nfrom IPython.core.display import HTML \n    \n# tranforming json file into a pandas dataframe library\nfrom pandas.io.json import json_normalize\n\n!conda update -n base -c defaults conda --yes\n!conda install -c conda-forge folium=0.5.0 --yes\nimport folium # plotting library\n\nprint('Folium installed')\nprint('Libraries imported.')"
        },
        {
            "cell_type": "markdown",
            "metadata": {},
            "source": "## Week 1"
        },
        {
            "cell_type": "markdown",
            "metadata": {},
            "source": "### Problem Description and a Discussion of the Background"
        },
        {
            "cell_type": "markdown",
            "metadata": {},
            "source": "The City of Miami covers 56 square miles of land in South Florida.  The City of Miami has a population of 500,000 people and the Miami Metropolitan Area houses over 7 million people.  Miami is the 6th most populated city in the United States of America.  Miami is a leader in finance, international commerce, media/entertainment and arts.  It is also a major tourism hub due to its pristine beaches, large cruise port, food, and nightlife.\n\nWhere is the best place to stay in Miami if you are interested in good food?  In nightlife?"
        },
        {
            "cell_type": "markdown",
            "metadata": {},
            "source": "### Data Description"
        },
        {
            "cell_type": "markdown",
            "metadata": {},
            "source": "- Miami Metropolitan Data to extract all the neighborhoods.  http://datahub-miamigis.opendata.arcgis.com/datasets/miami-neighborhoods-shapefile?orderBy=FID&selectedAttribute=Shape_STLe\n\n- Foursquare API to get latitude/longitude from an address\n\n- Foursquare API to get food venues and nighlife venues"
        },
        {
            "cell_type": "code",
            "execution_count": null,
            "metadata": {},
            "outputs": [],
            "source": "url = 'https://opendata.arcgis.com/datasets/2f54a0cbd67046f2bd100fb735176e6c_0.geojson'"
        },
        {
            "cell_type": "code",
            "execution_count": null,
            "metadata": {},
            "outputs": [],
            "source": "results = requests.get(url).json()\nresults"
        },
        {
            "cell_type": "code",
            "execution_count": null,
            "metadata": {},
            "outputs": [],
            "source": ""
        },
        {
            "cell_type": "code",
            "execution_count": null,
            "metadata": {},
            "outputs": [],
            "source": "# assign relevant part of JSON to neighborhoods\nneighborhoods = results['features']\n\n# tranform venues into a dataframe\ndf = json_normalize(neighborhoods)\ndf.head()"
        },
        {
            "cell_type": "code",
            "execution_count": null,
            "metadata": {},
            "outputs": [],
            "source": "new_df = pd.DataFrame(df['properties.LABEL'])\nnew_df.rename(columns={'properties.LABEL' : 'Neighborhood'}, inplace = True) \nnew_df.head()"
        },
        {
            "cell_type": "code",
            "execution_count": null,
            "metadata": {},
            "outputs": [],
            "source": "#convert neighborhood to address searchable in foresquare\nnew_df['Address'] = new_df['Neighborhood'].astype(str) + ', Miami FL'\nnew_df.head()"
        },
        {
            "cell_type": "code",
            "execution_count": null,
            "metadata": {},
            "outputs": [],
            "source": "address = '102 North End Ave, New York, NY'\n\ngeolocator = Nominatim(user_agent=\"foursquare_agent\")\nlocation = geolocator.geocode(address)\nlatitude = location.latitude\nlongitude = location.longitude\nprint(latitude, longitude)"
        },
        {
            "cell_type": "code",
            "execution_count": null,
            "metadata": {},
            "outputs": [],
            "source": "for i in new_df.iterrows(): \n    print(i)"
        },
        {
            "cell_type": "markdown",
            "metadata": {},
            "source": "### Define Foursquare Credentials and Version"
        },
        {
            "cell_type": "code",
            "execution_count": null,
            "metadata": {},
            "outputs": [],
            "source": "CLIENT_ID = 'UHYST3OJLUW0CKPSEWHX5ZBM24YNJ02DTTPP0AO55TXM3IEA' # your Foursquare ID\nCLIENT_SECRET = 'XQJT22MYEWXJOU5GP5X4WDBROXT1YVER231X5BHJF0Q3KEPJ' # your Foursquare Secret\nVERSION = '20180604'\nLIMIT = 30\nprint('Your credentails:')\nprint('CLIENT_ID: ' + CLIENT_ID)\nprint('CLIENT_SECRET:' + CLIENT_SECRET)"
        },
        {
            "cell_type": "code",
            "execution_count": null,
            "metadata": {},
            "outputs": [],
            "source": "stuff = []\nfor i in new_df['Address']:\n    try:\n        address = i\n        geolocator = Nominatim(user_agent=\"foursquare_agent\")\n        location = geolocator.geocode(address)\n        latitude = location.latitude\n        longitude = location.longitude\n        print(latitude, longitude)\n        # lat, lon add to list\n        stuff.append(tuple(address, latitude, longitude))\n        # create new df \n    except:\n        print(i)\nprint(stuff)"
        },
        {
            "cell_type": "code",
            "execution_count": null,
            "metadata": {},
            "outputs": [],
            "source": ""
        }
    ],
    "metadata": {
        "kernelspec": {
            "display_name": "Python 3.6",
            "language": "python",
            "name": "python3"
        },
        "language_info": {
            "codemirror_mode": {
                "name": "ipython",
                "version": 3
            },
            "file_extension": ".py",
            "mimetype": "text/x-python",
            "name": "python",
            "nbconvert_exporter": "python",
            "pygments_lexer": "ipython3",
            "version": "3.6.9"
        }
    },
    "nbformat": 4,
    "nbformat_minor": 4
}